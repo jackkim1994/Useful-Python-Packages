{
 "cells": [
  {
   "cell_type": "markdown",
   "metadata": {},
   "source": [
    "# Snowflake + Python Integration Template"
   ]
  },
  {
   "cell_type": "markdown",
   "metadata": {},
   "source": [
    "The purpose of the template is to provide me a sample `ipynb` python script that I can refer to if I do work with Snowflake environments in the future.\n",
    "\n",
    "Oftentimes, there is a limit of how much I can analyze using Snowflake SQL, so I do utilize a python package that allows me to access Snowflake environment and import respective Custom SQL table to my Jupyter Notebook script.\n",
    "\n",
    "This option only works if you have access rights to the Snowflake environment, along with internal VPN provided by a company."
   ]
  },
  {
   "cell_type": "code",
   "execution_count": 53,
   "metadata": {},
   "outputs": [
    {
     "data": {
      "text/html": [
       "<style>div.output_area pre {white-space: pre;}</style>"
      ],
      "text/plain": [
       "<IPython.core.display.HTML object>"
      ]
     },
     "metadata": {},
     "output_type": "display_data"
    }
   ],
   "source": [
    "import snowflake.connector as sf\n",
    "import pandas as pd\n",
    "import numpy as np\n",
    "import re\n",
    "import datetime\n",
    "import matplotlib.pyplot as plt\n",
    "import seaborn as sns\n",
    "import math\n",
    "import warnings as w\n",
    "import datetime\n",
    "import csv\n",
    "w.filterwarnings(\"ignore\")\n",
    "from IPython.core.display import display, HTML\n",
    "display(HTML(\"<style>div.output_area pre {white-space: pre;}</style>\"))\n",
    "import os\n",
    "from dfply import *"
   ]
  },
  {
   "cell_type": "code",
   "execution_count": 94,
   "metadata": {},
   "outputs": [],
   "source": [
    "sample_query = \"\"\"\n",
    "SELECT\n",
    "    date,\n",
    "    SUM(users) AS users\n",
    "FROM\n",
    "    SAMPLE_TABLE\n",
    "WHERE\n",
    "    company = 'Sample Company'\n",
    "GROUP BY\n",
    "    1\n",
    "ORDER BY\n",
    "    1\n",
    ";\n",
    "\"\"\""
   ]
  },
  {
   "cell_type": "code",
   "execution_count": 95,
   "metadata": {},
   "outputs": [],
   "source": [
    "# establish connection between snowflake and python\n",
    "conn = sf.connect(\n",
    "                user='username',\n",
    "                password='password',\n",
    "                account='Snowflake Environment',\n",
    "                warehouse='Snowflake Warehouse',\n",
    "                database='Snowflake Database',\n",
    "                schema='Snowflake Schema'\n",
    "                )\n",
    "\n",
    "# create dataframe object with the fetched data from snowflake\n",
    "df1 = pd.read_sql_query(query1,\n",
    "                       conn,\n",
    "                       coerce_float = True\n",
    "                      )"
   ]
  }
 ],
 "metadata": {
  "kernelspec": {
   "display_name": "Python 3 (ipykernel)",
   "language": "python",
   "name": "python3"
  },
  "language_info": {
   "codemirror_mode": {
    "name": "ipython",
    "version": 3
   },
   "file_extension": ".py",
   "mimetype": "text/x-python",
   "name": "python",
   "nbconvert_exporter": "python",
   "pygments_lexer": "ipython3",
   "version": "3.8.5"
  }
 },
 "nbformat": 4,
 "nbformat_minor": 2
}
