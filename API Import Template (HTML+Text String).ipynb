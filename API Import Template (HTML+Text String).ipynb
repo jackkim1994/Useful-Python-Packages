{
 "cells": [
  {
   "cell_type": "markdown",
   "id": "83996e38",
   "metadata": {},
   "source": [
    "# API Import Template (Text String)\n",
    "\n",
    "The purpose of this python script is to use for API importing data that uses HTML/Text String.\n",
    "The method to import the API data will be different from other API platforms. This python script is only for Text data from API."
   ]
  },
  {
   "cell_type": "code",
   "execution_count": 1,
   "id": "97f5b321",
   "metadata": {},
   "outputs": [
    {
     "name": "stdout",
     "output_type": "stream",
     "text": [
      "200\n"
     ]
    }
   ],
   "source": [
    "import requests\n",
    "import pandas as pd\n",
    "import json\n",
    "import io\n",
    "from datetime import date\n",
    "\n",
    "# pre-data setup for API\n",
    "today = str(date.today())\n",
    "\n",
    "start_date = '2023-04-01'\n",
    "end_date = today\n",
    "\n",
    "# Note: The sample website does not work. It's a made-up website name\n",
    "r = requests.get('https://sample_website.com/en/reports/Custom-Reports/filters?start_date='+start_date+'&end_date='+end_date+'&additional_miscellaneous_details')\n",
    "print(r.status_code)"
   ]
  },
  {
   "cell_type": "code",
   "execution_count": 2,
   "id": "248d4273",
   "metadata": {},
   "outputs": [],
   "source": [
    "# Bring the text data\n",
    "testdata = r.text"
   ]
  },
  {
   "cell_type": "code",
   "execution_count": 3,
   "id": "247c32c3",
   "metadata": {},
   "outputs": [],
   "source": [
    "# Cleanse it to be a dataframe\n",
    "df = pd.read_csv(io.StringIO(testdata),sep=r\",\",engine=\"python\")"
   ]
  },
  {
   "cell_type": "code",
   "execution_count": 50,
   "id": "7c099e5f",
   "metadata": {},
   "outputs": [],
   "source": [
    "df.to_csv('sample_file.csv', index=False)"
   ]
  }
 ],
 "metadata": {
  "kernelspec": {
   "display_name": "Python 3 (ipykernel)",
   "language": "python",
   "name": "python3"
  },
  "language_info": {
   "codemirror_mode": {
    "name": "ipython",
    "version": 3
   },
   "file_extension": ".py",
   "mimetype": "text/x-python",
   "name": "python",
   "nbconvert_exporter": "python",
   "pygments_lexer": "ipython3",
   "version": "3.8.5"
  }
 },
 "nbformat": 4,
 "nbformat_minor": 5
}
